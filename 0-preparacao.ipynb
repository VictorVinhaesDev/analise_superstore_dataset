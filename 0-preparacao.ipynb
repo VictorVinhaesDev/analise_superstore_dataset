{
 "cells": [
  {
   "cell_type": "markdown",
   "metadata": {},
   "source": [
    "### Instalando as Dependências  \n",
    "Para instalar todas as dependências do projeto e suas versões, rode o seguinte comando no terminal:  \n",
    "\n",
    "```bash\n",
    "pip install -r requirements.txt\n",
    "```\n",
    "Caso tenha algum problema você pode tentar instalar diretamente com o comando no terminal:\n",
    "\n",
    "```bash\n",
    "pip install pandas matplotlib openai seaborn scikit-learn numpy\n",
    "```\n",
    "\n",
    "### Parte 3 desafio de IA\n",
    "Você vai precisar ter uma API Key para rodar no seu computador.\n",
    "\n",
    "Crie ela neste site https://platform.openai.com/docs/overview , acredito que eles dão alguns créditos de graça para contas novas.\n",
    "\n",
    "Crie um arquivo \".env\" e ecreva **OPENAI_API_KEY=\"sua api key\"** escreva exatamente como eu coloquei e substitua o valor pela sua api key.\n"
   ]
  }
 ],
 "metadata": {
  "language_info": {
   "name": "python"
  }
 },
 "nbformat": 4,
 "nbformat_minor": 2
}
